{
  "nbformat": 4,
  "nbformat_minor": 0,
  "metadata": {
    "colab": {
      "provenance": [],
      "include_colab_link": true
    },
    "kernelspec": {
      "name": "python3",
      "display_name": "Python 3"
    },
    "language_info": {
      "name": "python"
    }
  },
  "cells": [
    {
      "cell_type": "markdown",
      "metadata": {
        "id": "view-in-github",
        "colab_type": "text"
      },
      "source": [
        "<a href=\"https://colab.research.google.com/github/mrjw717/Useful-Daily-Tools/blob/main/PNG_2_SVG_Colored.ipynb\" target=\"_parent\"><img src=\"https://colab.research.google.com/assets/colab-badge.svg\" alt=\"Open In Colab\"/></a>"
      ]
    },
    {
      "cell_type": "code",
      "source": [
        "from google.colab import drive\n",
        "# Mount Google Drive to access images\n",
        "drive.mount('/content/drive')"
      ],
      "metadata": {
        "colab": {
          "base_uri": "https://localhost:8080/"
        },
        "id": "U9ckvHxV_8K3",
        "outputId": "714eebf0-9c4a-4068-cc78-16b4f3de5d85"
      },
      "execution_count": null,
      "outputs": [
        {
          "output_type": "stream",
          "name": "stdout",
          "text": [
            "Mounted at /content/drive\n"
          ]
        }
      ]
    },
    {
      "cell_type": "code",
      "source": [
        "# Install necessary libraries\n",
        "!pip install pillow svgwrite numpy\n",
        "from google.colab import drive\n",
        "from PIL import Image\n",
        "import numpy as np\n",
        "import os\n",
        "\n",
        "# Mount Google Drive\n",
        "drive.mount('/content/drive')\n",
        "\n",
        "# Define input and output directories\n",
        "input_dir = '/content/drive/MyDrive/PNG-SVG'\n",
        "output_dir = '/content/drive/MyDrive/PNG-SVG/svg'\n",
        "\n",
        "# Create the output directory if it doesn't exist\n",
        "if not os.path.exists(output_dir):\n",
        "    os.makedirs(output_dir)\n",
        "\n",
        "# Function to quantize colors and group pixels into rectangles\n",
        "def png_to_svg(input_image_path, output_svg_path):\n",
        "    img = Image.open(input_image_path).convert(\"RGBA\")\n",
        "    width, height = img.size\n",
        "\n",
        "    # Reduce the number of colors\n",
        "    img = img.quantize(colors=16)  # Change the number of colors here as needed\n",
        "    img = img.convert(\"RGBA\")\n",
        "\n",
        "    pixels = img.load()\n",
        "    svg_content = [f'<svg xmlns=\"http://www.w3.org/2000/svg\" width=\"{width}\" height=\"{height}\">']\n",
        "\n",
        "    visited = np.zeros((height, width), dtype=bool)\n",
        "\n",
        "    for y in range(height):\n",
        "        for x in range(width):\n",
        "            if visited[y, x]:\n",
        "                continue\n",
        "\n",
        "            r, g, b, a = pixels[x, y]\n",
        "            if a > 0:  # Only consider non-transparent pixels\n",
        "                # Start a new rectangle\n",
        "                start_x = x\n",
        "                while x < width and pixels[x, y] == (r, g, b, a) and not visited[y, x]:\n",
        "                    visited[y, x] = True\n",
        "                    x += 1\n",
        "                # Draw the rectangle for the continuous block of the same color\n",
        "                svg_content.append(\n",
        "                    f'<rect x=\"{start_x}\" y=\"{y}\" width=\"{x - start_x}\" height=\"1\" fill=\"rgba({r},{g},{b},{a/255})\"/>'\n",
        "                )\n",
        "\n",
        "    svg_content.append('</svg>')\n",
        "\n",
        "    # Write the SVG content to file\n",
        "    with open(output_svg_path, 'w') as f:\n",
        "        f.write('\\n'.join(svg_content))\n",
        "\n",
        "# Function to process all PNG images in the input directory\n",
        "def process_images(input_dir, output_dir):\n",
        "    for file_name in os.listdir(input_dir):\n",
        "        if file_name.lower().endswith(\".png\"):\n",
        "            print(f\"Processing: {file_name}\")\n",
        "            png_path = os.path.join(input_dir, file_name)\n",
        "            svg_path = os.path.join(output_dir, f\"{os.path.splitext(file_name)[0]}.svg\")\n",
        "\n",
        "            # Convert PNG to SVG\n",
        "            png_to_svg(png_path, svg_path)\n",
        "\n",
        "# Run the processing function\n",
        "process_images(input_dir, output_dir)\n"
      ],
      "metadata": {
        "colab": {
          "base_uri": "https://localhost:8080/"
        },
        "id": "YGBeQCeDB24u",
        "outputId": "0ed11314-82cd-466d-f955-247da41e664e"
      },
      "execution_count": null,
      "outputs": [
        {
          "output_type": "stream",
          "name": "stdout",
          "text": [
            "Requirement already satisfied: pillow in /usr/local/lib/python3.10/dist-packages (10.4.0)\n",
            "Requirement already satisfied: svgwrite in /usr/local/lib/python3.10/dist-packages (1.4.3)\n",
            "Requirement already satisfied: numpy in /usr/local/lib/python3.10/dist-packages (1.26.4)\n",
            "Drive already mounted at /content/drive; to attempt to forcibly remount, call drive.mount(\"/content/drive\", force_remount=True).\n",
            "Processing: pngegg.png\n"
          ]
        }
      ]
    }
  ]
}